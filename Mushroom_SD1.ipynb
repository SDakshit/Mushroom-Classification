{
  "nbformat": 4,
  "nbformat_minor": 0,
  "metadata": {
    "colab": {
      "name": "Mushroom_SD1.ipynb",
      "provenance": []
    },
    "kernelspec": {
      "name": "python3",
      "display_name": "Python 3"
    },
    "accelerator": "TPU"
  },
  "cells": [
    {
      "cell_type": "code",
      "metadata": {
        "id": "LIHEi0IwbEgx",
        "colab_type": "code",
        "colab": {}
      },
      "source": [
        "import math\n",
        "import numpy as np"
      ],
      "execution_count": 95,
      "outputs": []
    },
    {
      "cell_type": "code",
      "metadata": {
        "id": "Q1sQouqs7cfk",
        "colab_type": "code",
        "colab": {}
      },
      "source": [
        "#probability calc\n",
        "def probability(l,length,pos):\n",
        "    probability= ( int(l[pos]) / length)\n",
        "    return probability"
      ],
      "execution_count": 96,
      "outputs": []
    },
    {
      "cell_type": "code",
      "metadata": {
        "id": "Dj1isiguaojT",
        "colab_type": "code",
        "colab": {}
      },
      "source": [
        "#conditional probability calc\n",
        "def conprob(feat, x, val): \n",
        "  l = []\n",
        "  for i in range(len(feat)):\n",
        "    if feat[i] == val:\n",
        "      l.append(x[i])\n",
        "  s = 0\n",
        "  for i in range (len(l)):\n",
        "    if l[i] == \"e\":\n",
        "      s += 1\n",
        "  return s/len(l)"
      ],
      "execution_count": 97,
      "outputs": []
    },
    {
      "cell_type": "code",
      "metadata": {
        "id": "DH_dqg_wagLC",
        "colab_type": "code",
        "colab": {}
      },
      "source": [
        "#generates data\n",
        "def data():\n",
        "  for line in open(\"mushrooms.txt\", 'r'):\n",
        "    feat = line.split(\",\")\n",
        "    split1.append(feat[0])\n",
        "    for i in range(22):\n",
        "      fr[i].append(feat[i + 1])"
      ],
      "execution_count": 98,
      "outputs": []
    },
    {
      "cell_type": "code",
      "metadata": {
        "id": "rlVA9eOCajr-",
        "colab_type": "code",
        "colab": {}
      },
      "source": [
        "#probability calc\n",
        "def prob(L1, val):\n",
        "  s = 0\n",
        "  for i in L1:\n",
        "    if i == val:\n",
        "      s += 1\n",
        "  ss=s/len(L1)\n",
        "  return ss"
      ],
      "execution_count": 99,
      "outputs": []
    },
    {
      "cell_type": "code",
      "metadata": {
        "id": "gOYKXk5V7zUS",
        "colab_type": "code",
        "colab": {}
      },
      "source": [
        " #IG = H(Y) - H(Y|X)\n",
        "def infogain(rr, lY,IG):\n",
        "  c=0\n",
        "  for i in range(length):\n",
        "    ig = ( entropy(lY) - cond_en(rr[i], rr[0], c))\n",
        "    c+=1\n",
        "    IG.append(ig)\n",
        "    \n",
        "  return IG"
      ],
      "execution_count": 100,
      "outputs": []
    },
    {
      "cell_type": "code",
      "metadata": {
        "id": "052eKiV6aseL",
        "colab_type": "code",
        "colab": {}
      },
      "source": [
        "#conditional entrpy\n",
        "def condent(p, feat):\n",
        "  total = sum([p[i]*sum([conprob(feat, split1, elements[i]) * Log(conprob(feat, split1, elements[i]))]) for i in range(len(p))])\n",
        "  return -total\n"
      ],
      "execution_count": 101,
      "outputs": []
    },
    {
      "cell_type": "code",
      "metadata": {
        "id": "XBtozXoUatOO",
        "colab_type": "code",
        "colab": {}
      },
      "source": [
        "#Log calc\n",
        "def Log(z):\n",
        "  if z <= 0:\n",
        "    return 0\n",
        "  return math.log(z)"
      ],
      "execution_count": 102,
      "outputs": []
    },
    {
      "cell_type": "code",
      "metadata": {
        "id": "4aS7WNaTaxAS",
        "colab_type": "code",
        "colab": {}
      },
      "source": [
        "#Unique probability\n",
        "def uprob(index):\n",
        "  p = []\n",
        "  for x in elements:\n",
        "    uprob = prob(fr[index], x)\n",
        "    p.append(uprob)\n",
        "  return p\n"
      ],
      "execution_count": 103,
      "outputs": []
    },
    {
      "cell_type": "code",
      "metadata": {
        "id": "AxxOBMCtazON",
        "colab_type": "code",
        "colab": {}
      },
      "source": [
        "def ele(L): \n",
        "  elements = []\n",
        "  for i in L:\n",
        "    while i not in elements:\n",
        "      elements.append(i)\n",
        "  return elements"
      ],
      "execution_count": 104,
      "outputs": []
    },
    {
      "cell_type": "code",
      "metadata": {
        "id": "G9vODtR78UeF",
        "colab_type": "code",
        "colab": {}
      },
      "source": [
        "#entropy calc\n",
        "#def entropy(lY):\n",
        " # ent=0  \n",
        "  #for i in range(4):\n",
        "  #pos=0\n",
        "  #for j in range(len(lY[1])):\n",
        "   #   ppp= probability(lY[1],length,pos)\n",
        "   #   ent+= ( ppp * np.log( ppp ))\n",
        "    #  pos+=1\n",
        "  #print(\"total: \", ent)\n",
        "  #return -ent"
      ],
      "execution_count": 105,
      "outputs": []
    },
    {
      "cell_type": "code",
      "metadata": {
        "id": "dSWyobGaa1TB",
        "colab_type": "code",
        "colab": {}
      },
      "source": [
        "#Calculates entropy\n",
        "def ent(L2):    \n",
        "  total = sum([Log(L2), Log(1-L2)])\n",
        "  return -total"
      ],
      "execution_count": 106,
      "outputs": []
    },
    {
      "cell_type": "code",
      "metadata": {
        "id": "ap-MKGWaacv2",
        "colab_type": "code",
        "colab": {
          "base_uri": "https://localhost:8080/",
          "height": 118
        },
        "outputId": "730c7186-4414-4b0c-c099-6d7334f9a174"
      },
      "source": [
        "split1 = []\n",
        "fr = []\n",
        "for i in range(22): \n",
        "  fr.append([])\n",
        "cent=[]\n",
        "elements = []\n",
        "x1 = 1\n",
        "x2 = 0\n",
        "\n",
        "data()   #get data\n",
        "fr1=np.array(fr)\n",
        "#calc total entropy\n",
        "sp_p = prob(split1, \"p\")\n",
        "sp_e = prob(split1, \"e\")\n",
        "entropy_total = ent(sp_e) + ent(sp_p)\n",
        "print(\"Total Entropy: \" + str(entropy_total))\n",
        "elements = ele(fr[0])\n",
        "for i in range(len(fr)): \n",
        "  elements = ele(fr[i])\n",
        "  p = uprob(i)\n",
        "  fc = condent(p, fr[i])\n",
        "  cent.append(fc)\n",
        "#split \n",
        "while x1 != x2:\n",
        "  x1 = cent.index(min(cent))\n",
        "  print(f\"Split occurs at feature number {x1 + 1},  {fr1[x1,0]}\")\n",
        "  elements = ele(fr[x1])\n",
        "  p = uprob(x1)\n",
        "  x2 = x1\n",
        "  del cent[x2]\n",
        "  x1 = cent.index(min(cent))"
      ],
      "execution_count": 107,
      "outputs": [
        {
          "output_type": "stream",
          "text": [
            "Total Entropy: 2.7751735682874044\n",
            "Split occurs at feature number 5,  odor\n",
            "Split occurs at feature number 19,  ring-type\n",
            "Split occurs at feature number 8,  gill-size\n",
            "Split occurs at feature number 17,  veil-color\n",
            "Split occurs at feature number 10,  stalk-shape\n"
          ],
          "name": "stdout"
        }
      ]
    },
    {
      "cell_type": "code",
      "metadata": {
        "id": "e2UwE0VNcFmO",
        "colab_type": "code",
        "colab": {}
      },
      "source": [
        ""
      ],
      "execution_count": 107,
      "outputs": []
    }
  ]
}