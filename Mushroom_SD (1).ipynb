{
  "nbformat": 4,
  "nbformat_minor": 0,
  "metadata": {
    "colab": {
      "name": "Mushroom_SD.ipynb",
      "provenance": []
    },
    "kernelspec": {
      "name": "python3",
      "display_name": "Python 3"
    },
    "accelerator": "TPU"
  },
  "cells": [
    {
      "cell_type": "code",
      "metadata": {
        "id": "JrAnU4JpuEQO",
        "colab_type": "code",
        "colab": {}
      },
      "source": [
        "# P(Y=y)\n",
        "def probability(l,length,pos):\n",
        "    probability= ( int(l[pos]) / length)\n",
        "    return probability\n",
        "  "
      ],
      "execution_count": null,
      "outputs": []
    },
    {
      "cell_type": "code",
      "metadata": {
        "id": "bb08dStFa6SU",
        "colab_type": "code",
        "colab": {}
      },
      "source": [
        "#entropy calc\n",
        "def entropy(lY):\n",
        "  ent=0  \n",
        "  #for i in range(4):\n",
        "  pos=0\n",
        "  for j in range(len(lY[1])):\n",
        "      ppp= probability(lY[1],length,pos)\n",
        "      ent+= ( ppp * np.log( ppp ))\n",
        "      pos+=1\n",
        "  print(\"total: \", ent)\n",
        "  return -ent"
      ],
      "execution_count": null,
      "outputs": []
    },
    {
      "cell_type": "code",
      "metadata": {
        "id": "5l7z0q86XBUw",
        "colab_type": "code",
        "colab": {}
      },
      "source": [
        "#prob calculation\n",
        "def ceprob(Z,feat):\n",
        "  count=0\n",
        "  for i in range(len(Z)):\n",
        "    if Z[i]== feat:\n",
        "      count+=1\n",
        "  ceprob=count/len(Z)\n",
        "  return ceprob"
      ],
      "execution_count": null,
      "outputs": []
    },
    {
      "cell_type": "code",
      "metadata": {
        "id": "cELotktVXvrO",
        "colab_type": "code",
        "colab": {}
      },
      "source": [
        "#conditional entropy calv\n",
        "def cond_en(X,Y, c):\n",
        "  x=l[c][0]\n",
        "  y='e'\n",
        "  px=0\n",
        "  py=0\n",
        "  lenx=len(x)\n",
        "  for i in range (lenx):\n",
        "    px= ceprob(X,x[i])\n",
        "    for j in range (lenx):\n",
        "      s= ( ceprob(X,x[i]) * ceprob(Y,y) )/ (ceprob(X, x[i]))   \n",
        "      py+= ( s * np.log(s))\n",
        "  cond_entropy= ( px * py)\n",
        "  return cond_entropy"
      ],
      "execution_count": null,
      "outputs": []
    },
    {
      "cell_type": "code",
      "metadata": {
        "id": "05pC8DJQBLUW",
        "colab_type": "code",
        "colab": {}
      },
      "source": [
        " #IG = H(Y) - H(Y|X)\n",
        "def infogain(rr, lY,IG):\n",
        "  c=0\n",
        "  for i in range(length):\n",
        "    ig = ( entropy(lY) - cond_en(rr[i], rr[0], c))\n",
        "    c+=1\n",
        "    IG.append(ig)\n",
        "    \n",
        "  return IG\n"
      ],
      "execution_count": null,
      "outputs": []
    },
    {
      "cell_type": "code",
      "metadata": {
        "id": "Tk5DhZBee1fX",
        "colab_type": "code",
        "colab": {}
      },
      "source": [
        "import csv\n",
        "import math\n",
        "import numpy as np\n",
        "fr=[]\n",
        "label=[]\n",
        "rr=[]\n",
        "length=0\n",
        "\n",
        "def data():\n",
        "  with open(\"mushroom.csv\") as f:\n",
        "  fr=list(csv.reader(f))\n",
        "  fr= np.array(fr)\n",
        "  label= fr[0]\n",
        "  rr= fr[1:].T\n",
        "  length=len(rr)"
      ],
      "execution_count": null,
      "outputs": []
    },
    {
      "cell_type": "code",
      "metadata": {
        "id": "2FiTjtsTiRDa",
        "colab_type": "code",
        "colab": {}
      },
      "source": [
        "#counting freq of each unique attribute\n",
        "l=[]\n",
        "lY=[]\n",
        "for i in range(23):\n",
        "  (unique,counts)=np.unique((fr[1:,i]), return_counts= True)\n",
        "  freq=np.asarray((unique,counts))\n",
        "  l.append(freq)\n",
        "IG=[]  #list that stores all IG\n",
        "lY=l[0]\n",
        "IG=infogain(rr,lY,IG)  #info gain calculation\n",
        "high=0\n",
        "\n",
        "\n",
        "#split calc\n",
        "for zzz in range(length):\n",
        "  for i in range(len(IG)):\n",
        "    if IG[i]>high:\n",
        "      high=IG[i] #calculates highest ig from the list\n",
        "  featpos= IG.index(high)\n",
        "  print(f\" Split {zzz} occurs at feature: {label[featpos]} with max IG of {high}\")\n",
        "  rr=np.delete(rr,0,featpos)\n",
        " # print(rr)\n"
      ],
      "execution_count": null,
      "outputs": []
    },
    {
      "cell_type": "code",
      "metadata": {
        "id": "gSi4suIkMLp-",
        "colab_type": "code",
        "colab": {}
      },
      "source": [
        "def find_unique_probability(index):\n",
        "  probabilities = []\n",
        "  for x in elements:\n",
        "    unique_prob = ceprob(feature_values[index], x)\n",
        "    probabilities.append(unique_prob)\n",
        "  return probabilities"
      ],
      "execution_count": null,
      "outputs": []
    },
    {
      "cell_type": "code",
      "metadata": {
        "id": "x2DVJ1-xLeD6",
        "colab_type": "code",
        "colab": {}
      },
      "source": [
        "def find_elements(current_list): \n",
        "  elements = []\n",
        "  for i in current_list:\n",
        "    if i not in elements:\n",
        "      elements.append(i)\n",
        "  return elements\n"
      ],
      "execution_count": null,
      "outputs": []
    },
    {
      "cell_type": "code",
      "metadata": {
        "id": "ept8nq4cM3AO",
        "colab_type": "code",
        "colab": {}
      },
      "source": [
        "def find_elements(current_list): \n",
        "  elements = []\n",
        "  for i in current_list:\n",
        "    if i not in elements:\n",
        "      elements.append(i)\n",
        "  return elements"
      ],
      "execution_count": null,
      "outputs": []
    },
    {
      "cell_type": "code",
      "metadata": {
        "id": "e_J9OYvsKS-J",
        "colab_type": "code",
        "colab": {}
      },
      "source": [
        "first_split = []\n",
        "feature_values = []\n",
        "for i in range(22): \n",
        "  feature_values.append([])\n",
        "feature_entropy = []\n",
        "feature_probabilities = []\n",
        "elements = []\n",
        "br = 1\n",
        "br2 = -1\n",
        "\n",
        "data()\n",
        "first_split_probability_p = probability(first_split, \"p\")\n",
        "first_split_probability_e = probability(first_split, \"e\")\n",
        "entropy_total = entropy(first_split_probability_p) + entropy(first_split_probability_e)\n",
        "print(\"Total Entropy: \" + str(entropy_total))\n",
        "elements = find_elements(label)\n",
        "conditional_entropies = []\n",
        "for i in range(length): \n",
        "  elements = find_elements(rr[i])\n",
        "  probabilities = find_unique_probability(i)\n",
        "  final_conditional = cond_en(probabilities, rr[i])\n",
        "  conditional_entropies.append(final_conditional)\n",
        "while br != br2:\n",
        "  br = conditional_entropies.index(min(conditional_entropies))\n",
        "  print(f\"Split at feature {br + 1}\")\n",
        "  elements = find_elements(rr[br])\n",
        "  probabilities = find_unique_probability(br)\n",
        "  br2 = br\n",
        "  del conditional_entropies[br2]\n",
        "  br = conditional_entropies.index(min(conditional_entropies))"
      ],
      "execution_count": null,
      "outputs": []
    }
  ]
}